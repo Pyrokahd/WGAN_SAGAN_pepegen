{
 "cells": [
  {
   "cell_type": "code",
   "execution_count": 1,
   "id": "dd15945d",
   "metadata": {},
   "outputs": [],
   "source": [
    "import matplotlib.pyplot as plt\n",
    "import numpy as np\n",
    "import os\n",
    "import tensorflow as tf\n",
    "from tensorflow import keras\n",
    "\n",
    "from tensorflow.keras.models import Model\n",
    "from tensorflow.keras import layers\n",
    "\n",
    "from PIL.ExifTags import *\n",
    "from PIL import Image\n",
    "import random\n",
    "import sys\n",
    "import math"
   ]
  },
  {
   "cell_type": "markdown",
   "id": "09391bc8",
   "metadata": {},
   "source": [
    "# Paths"
   ]
  },
  {
   "cell_type": "code",
   "execution_count": 2,
   "id": "fc367c7c",
   "metadata": {},
   "outputs": [],
   "source": [
    "#with Image.open(\"hopper.jpg\") as im:\n",
    "#    im.rotate(45).show()"
   ]
  },
  {
   "cell_type": "code",
   "execution_count": 3,
   "id": "2eb83d06",
   "metadata": {},
   "outputs": [],
   "source": [
    "#image_path = \"C:/Users/Christian/Pictures/PEPEDATENSATZ/newpepe\"\n",
    "#out_path = \"C:/Users/Christian/Pictures/PEPEDATENSATZ/newpepe\"###\n",
    "\n",
    "# SAVE ALL AS PNG\n",
    "#from PIL import Image\n",
    "\n",
    "#for file in os.listdir(image_path):\n",
    "#    currentfile = Image.open(os.path.join(image_path, file))\n",
    "#    newname = file[:-4]+\".png\"\n",
    "#    currentfile.save(os.path.join(out_path,newname), format=\"png\")\n",
    "\n"
   ]
  },
  {
   "cell_type": "code",
   "execution_count": 4,
   "id": "88b3a516",
   "metadata": {},
   "outputs": [],
   "source": [
    "IN_PATH = r\"C:\\Users\\Christian\\Pictures\\PEPEDATENSATZ\\newpepe\"\n",
    "OUT_PATH = r\"C:\\Users\\Christian\\Pictures\\PepeEmoji\\augmentedPepes\"\n",
    "OUT_PATH2 = r\"C:\\Users\\Christian\\Pictures\\PepeEmoji\\augmentedPepes2\"\n"
   ]
  },
  {
   "cell_type": "code",
   "execution_count": 9,
   "id": "5bdd56ae",
   "metadata": {},
   "outputs": [],
   "source": [
    "# random rotations\n",
    "for img in os.listdir(IN_PATH):\n",
    "    img_path = os.path.join(IN_PATH, img)\n",
    "\n",
    "    pick_array = np.arange(-20, 25, 7, dtype=int)\n",
    "    pick_array = np.delete(pick_array, [3])  # index 3 entfernen\n",
    "    angle = random.choice(pick_array)\n",
    "    \n",
    "    im = Image.open(img_path)\n",
    "    im = im.rotate(angle)\n",
    "    \n",
    "    crop_factor = 8  \n",
    "    width, height = im.size\n",
    "    if width > 150 and height > 150:\n",
    "        crop_factor = 30\n",
    "    if width > 300 and height > 300:\n",
    "        crop_factor = 50\n",
    "    if width > 32 and height > 32:\n",
    "        im = im.crop((crop_factor, crop_factor, width - crop_factor, height - crop_factor))\n",
    "    im.save(os.path.join(OUT_PATH, f\"{img[:-4]}_{angle}.png\"))"
   ]
  },
  {
   "cell_type": "code",
   "execution_count": 10,
   "id": "638ab73f",
   "metadata": {},
   "outputs": [],
   "source": [
    "#Everything transposed\n",
    "for img in os.listdir(IN_PATH):\n",
    "    img_path = os.path.join(IN_PATH, img)\n",
    "    \n",
    "    pick_array = np.arange(-20, 25, 7, dtype=int)\n",
    "    pick_array = np.delete(pick_array, [3])\n",
    "    angle = random.choice(pick_array)\n",
    "    \n",
    "    im = Image.open(img_path)\n",
    "    im = im.transpose(Image.Transpose.FLIP_LEFT_RIGHT)\n",
    "    im = im.rotate(angle)\n",
    "    \n",
    "    width, height = im.size\n",
    "    crop_factor = 8  \n",
    "    if width > 150 and height > 150:\n",
    "        crop_factor = 30\n",
    "    if width > 300 and height > 300:\n",
    "        crop_factor = 40\n",
    "    if width > 32 and height > 32:\n",
    "        im = im.crop((crop_factor, crop_factor, width - crop_factor, height - crop_factor))\n",
    "    im.save(os.path.join(OUT_PATH2, f\"{img[:-4]}_{angle}_flipped.png\"))"
   ]
  },
  {
   "cell_type": "code",
   "execution_count": null,
   "id": "bfc0ec83",
   "metadata": {},
   "outputs": [],
   "source": []
  }
 ],
 "metadata": {
  "kernelspec": {
   "display_name": "Python 3 (ipykernel)",
   "language": "python",
   "name": "python3"
  },
  "language_info": {
   "codemirror_mode": {
    "name": "ipython",
    "version": 3
   },
   "file_extension": ".py",
   "mimetype": "text/x-python",
   "name": "python",
   "nbconvert_exporter": "python",
   "pygments_lexer": "ipython3",
   "version": "3.10.0"
  }
 },
 "nbformat": 4,
 "nbformat_minor": 5
}
